{
 "cells": [
  {
   "cell_type": "markdown",
   "id": "ec373ccb-3870-434b-9732-959441acade0",
   "metadata": {},
   "source": [
    "Live Code"
   ]
  },
  {
   "cell_type": "code",
   "execution_count": 2,
   "id": "4ba73f3b-10c2-4cef-9dd2-ae4d19e8c4b9",
   "metadata": {},
   "outputs": [],
   "source": [
    "import easyocr\n",
    "import pandas as pd\n",
    "import cv2\n",
    "\n",
    "# Initialize EasyOCR reader\n",
    "reader = easyocr.Reader([\"en\"], gpu=True)\n",
    "\n",
    "frames = cv2.VideoCapture(0)\n",
    "\n",
    "while True:\n",
    "    ret, frame = frames.read()\n",
    "    \n",
    "    if not ret:\n",
    "        break\n",
    "    \n",
    "    # Perform OCR\n",
    "    result = reader.readtext(frame)\n",
    "\n",
    "    # Draw bounding boxes on the image\n",
    "    for detection in result:\n",
    "        box = detection[0]\n",
    "        text = detection[1]\n",
    "        score = detection[2]\n",
    "    \n",
    "        # Extract the coordinates\n",
    "        x_min, y_min = map(int, [box[0][0], box[0][1]])\n",
    "        x_max, y_max = map(int, [box[2][0], box[2][1]])\n",
    "    \n",
    "        # Draw the bounding box rectangle on the image\n",
    "        cv2.rectangle(frame, (x_min, y_min), (x_max, y_max), (50, 255, 0), 2)\n",
    "    \n",
    "        # Put the recognized text above the bounding box\n",
    "        cv2.putText(frame, text, (x_min, y_min - 10), cv2.FONT_HERSHEY_SIMPLEX, 0.4, (50, 255, 0), 2)\n",
    "    \n",
    "    # Display the frame with bounding boxes\n",
    "    cv2.imshow(\"OCR Result\", frame)\n",
    "    \n",
    "    key = cv2.waitKey(50)\n",
    "    if key == ord(\"q\") or key == 27:\n",
    "        break\n",
    "\n",
    "# Release the video capture and close any open windows\n",
    "frames.release()\n",
    "cv2.destroyAllWindows()"
   ]
  },
  {
   "cell_type": "markdown",
   "id": "c4bbf8a5-2e91-4946-86a8-2db930bd485c",
   "metadata": {},
   "source": [
    "Trigger Baised Ccde"
   ]
  },
  {
   "cell_type": "code",
   "execution_count": 10,
   "id": "6a492f22-873a-4139-88e6-a5f9da21b0cf",
   "metadata": {},
   "outputs": [
    {
     "name": "stdout",
     "output_type": "stream",
     "text": [
      "Press 's\n",
      "for OCR\n",
      "Mob: 97335 92288\n",
      "Sr Snne\n",
      "NISARGA MENS PG\n",
      "Luxurious PG Accommodaton\n",
      "Pradeep\n",
      "97414 0421J\n",
      "E-malll nisargapradeupa gmall com\n",
      "3n51\n"
     ]
    }
   ],
   "source": [
    "import easyocr\n",
    "import pandas as pd\n",
    "import cv2\n",
    "\n",
    "# Initialize EasyOCR reader\n",
    "reader = easyocr.Reader([\"en\"], gpu=True)\n",
    "\n",
    "frames = cv2.VideoCapture(0)\n",
    "\n",
    "while True:\n",
    "    ret, frame = frames.read()\n",
    "    \n",
    "    if not ret:\n",
    "        break\n",
    "\n",
    "    cv2.putText(frame, \"Press 's' for OCR\", (5, 23), cv2.FONT_HERSHEY_SIMPLEX, 0.8, (50, 100, 200), 2)\n",
    "    cv2.imshow(\"Live Stream\", frame)\n",
    "    if key == ord(\"s\"):\n",
    "        # Perform OCR\n",
    "        result = reader.readtext(frame)\n",
    "    \n",
    "        # Draw bounding boxes on the image\n",
    "        for detection in result:\n",
    "            box = detection[0]\n",
    "            text = detection[1]\n",
    "            score = detection[2]\n",
    "        \n",
    "            # Extract the coordinates\n",
    "            x_min, y_min = map(int, [box[0][0], box[0][1]])\n",
    "            x_max, y_max = map(int, [box[2][0], box[2][1]])\n",
    "        \n",
    "            # Draw the bounding box rectangle on the image\n",
    "            cv2.rectangle(frame, (x_min, y_min), (x_max, y_max), (50, 255, 0), 2)\n",
    "        \n",
    "            # Put the recognized text above the bounding box\n",
    "            cv2.putText(frame, text, (x_min, y_min - 10), cv2.FONT_HERSHEY_SIMPLEX, 0.4, (50, 255, 0), 1)\n",
    "            print(text)\n",
    "        # Display the frame with bounding boxes\n",
    "        cv2.imshow(\"OCR Result\", frame)\n",
    "\n",
    "    key = cv2.waitKey(50)\n",
    "    if key == ord(\"q\") or key == 27:\n",
    "        break\n",
    "# Release the video capture and close any open windows\n",
    "frames.release()\n",
    "cv2.destroyAllWindows()"
   ]
  },
  {
   "cell_type": "markdown",
   "id": "5d2fcfd2-e7b9-41d2-a330-97a12f93f41d",
   "metadata": {},
   "source": [
    "                                                                THANK YOU"
   ]
  }
 ],
 "metadata": {
  "kernelspec": {
   "display_name": "Python 3 (ipykernel)",
   "language": "python",
   "name": "python3"
  },
  "language_info": {
   "codemirror_mode": {
    "name": "ipython",
    "version": 3
   },
   "file_extension": ".py",
   "mimetype": "text/x-python",
   "name": "python",
   "nbconvert_exporter": "python",
   "pygments_lexer": "ipython3",
   "version": "3.10.7"
  }
 },
 "nbformat": 4,
 "nbformat_minor": 5
}
